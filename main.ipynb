{
 "cells": [
  {
   "cell_type": "code",
   "execution_count": 31,
   "id": "e3db19b6",
   "metadata": {},
   "outputs": [],
   "source": [
    "from sklearn.feature_extraction.text import CountVectorizer, TfidfVectorizer\n",
    "import numpy as np"
   ]
  },
  {
   "cell_type": "code",
   "execution_count": 32,
   "id": "ca296c50",
   "metadata": {},
   "outputs": [],
   "source": [
    "emails = [line.strip() for line in open(\"sample.txt\")]\n",
    "labels = [1, 0, 1, 0, 1, 0]"
   ]
  },
  {
   "cell_type": "code",
   "execution_count": 33,
   "id": "90795cf1",
   "metadata": {},
   "outputs": [
    {
     "name": "stdout",
     "output_type": "stream",
     "text": [
      "=== Bag of Words (BoW) ===\n",
      "Feature Names (Words): ['50' 'account' 'act' 'agenda' 'and' 'anything' 'appointment'\n",
      " 'approaching' 'approved' 'are' 'at' 'attached' 'be' 'been' 'bitcoin'\n",
      " 'bob' 'buy' 'by' 'can' 'cheap' 'claim' 'click' 'client' 'com'\n",
      " 'compromised' 'confirm' 'congratulations' 'daily' 'deadline' 'deals'\n",
      " 'did' 'document' 'does' 'don' 'earn' 'fast' 'feedback' 'finish' 'for'\n",
      " 'free' 'friday' 'from' 'get' 'grab' 'great' 'ham' 'has' 'have' 'help'\n",
      " 'here' 'hey' 'hi' 'home' 'http' 'if' 'immediately' 'iphone' 'is' 'job'\n",
      " 'john' 'know' 'learn' 'let' 'limited' 'll' 'loan' 'lunch' 'make' 'me'\n",
      " 'medication' 'meeting' 'miss' 'monday' 'money' 'more' 'new' 'next' 'no'\n",
      " 'now' 'of' 'off' 'offer' 'on' 'only' 'order' 'our' 'out' 'please' 'pm'\n",
      " 'pre' 'prescription' 'presentation' 'prize' 'project' 'reminder'\n",
      " 'remotely' 'report' 'reschedule' 'review' 'sarah' 'scheme' 'selected'\n",
      " 'send' 'sign' 'spam' 'spamlink197' 'spamlink207' 'spamlink214'\n",
      " 'spamlink290' 'spamlink292' 'spamlink332' 'spamlink339' 'spamlink340'\n",
      " 'spamlink357' 'spamlink377' 'spamlink383' 'spamlink389' 'spamlink415'\n",
      " 'spamlink423' 'spamlink428' 'spamlink447' 'spamlink451' 'spamlink460'\n",
      " 'spamlink544' 'spamlink564' 'spamlink684' 'spamlink686' 'spamlink694'\n",
      " 'spamlink709' 'spamlink719' 'spamlink753' 'spamlink778' 'spamlink786'\n",
      " 'spamlink799' 'spamlink812' 'spamlink820' 'spamlink848' 'spamlink879'\n",
      " 'spamlink890' 'spamlink967' 'spamlink973' 'spamlink990' 'sync' 'team'\n",
      " 'thanks' 'the' 'this' 'time' 'to' 'today' 'tuesday' 'tv' 'up' 'urgent'\n",
      " 'vacation' 've' 'verify' 'visit' 'we' 'week' 'winner' 'with' 'won' 'work'\n",
      " 'working' 'yesterday' 'you' 'your']\n",
      "BoW Vectors (Word Counts):\n",
      "[[0 0 0 ... 0 0 0]\n",
      " [0 1 0 ... 0 0 1]\n",
      " [1 0 0 ... 0 0 0]\n",
      " ...\n",
      " [0 0 0 ... 0 0 0]\n",
      " [0 1 0 ... 0 0 1]\n",
      " [0 0 1 ... 0 0 1]]\n"
     ]
    }
   ],
   "source": [
    "vectorizer_bow = CountVectorizer()\n",
    "X_bow = vectorizer_bow.fit_transform(emails)\n",
    "\n",
    "print(\"=== Bag of Words (BoW) ===\")\n",
    "words_bow = vectorizer_bow.get_feature_names_out()\n",
    "print(\"Feature Names (Words):\", words_bow)\n",
    "print(\"BoW Vectors (Word Counts):\")\n",
    "print(X_bow.toarray())\n"
   ]
  },
  {
   "cell_type": "code",
   "execution_count": 34,
   "id": "923e8d0f",
   "metadata": {},
   "outputs": [
    {
     "name": "stdout",
     "output_type": "stream",
     "text": [
      "\n",
      "=== TF-IDF ===\n",
      "Feature Names (Words): ['50' 'account' 'act' 'agenda' 'and' 'anything' 'appointment'\n",
      " 'approaching' 'approved' 'are' 'at' 'attached' 'be' 'been' 'bitcoin'\n",
      " 'bob' 'buy' 'by' 'can' 'cheap' 'claim' 'click' 'client' 'com'\n",
      " 'compromised' 'confirm' 'congratulations' 'daily' 'deadline' 'deals'\n",
      " 'did' 'document' 'does' 'don' 'earn' 'fast' 'feedback' 'finish' 'for'\n",
      " 'free' 'friday' 'from' 'get' 'grab' 'great' 'ham' 'has' 'have' 'help'\n",
      " 'here' 'hey' 'hi' 'home' 'http' 'if' 'immediately' 'iphone' 'is' 'job'\n",
      " 'john' 'know' 'learn' 'let' 'limited' 'll' 'loan' 'lunch' 'make' 'me'\n",
      " 'medication' 'meeting' 'miss' 'monday' 'money' 'more' 'new' 'next' 'no'\n",
      " 'now' 'of' 'off' 'offer' 'on' 'only' 'order' 'our' 'out' 'please' 'pm'\n",
      " 'pre' 'prescription' 'presentation' 'prize' 'project' 'reminder'\n",
      " 'remotely' 'report' 'reschedule' 'review' 'sarah' 'scheme' 'selected'\n",
      " 'send' 'sign' 'spam' 'spamlink197' 'spamlink207' 'spamlink214'\n",
      " 'spamlink290' 'spamlink292' 'spamlink332' 'spamlink339' 'spamlink340'\n",
      " 'spamlink357' 'spamlink377' 'spamlink383' 'spamlink389' 'spamlink415'\n",
      " 'spamlink423' 'spamlink428' 'spamlink447' 'spamlink451' 'spamlink460'\n",
      " 'spamlink544' 'spamlink564' 'spamlink684' 'spamlink686' 'spamlink694'\n",
      " 'spamlink709' 'spamlink719' 'spamlink753' 'spamlink778' 'spamlink786'\n",
      " 'spamlink799' 'spamlink812' 'spamlink820' 'spamlink848' 'spamlink879'\n",
      " 'spamlink890' 'spamlink967' 'spamlink973' 'spamlink990' 'sync' 'team'\n",
      " 'thanks' 'the' 'this' 'time' 'to' 'today' 'tuesday' 'tv' 'up' 'urgent'\n",
      " 'vacation' 've' 'verify' 'visit' 'we' 'week' 'winner' 'with' 'won' 'work'\n",
      " 'working' 'yesterday' 'you' 'your']\n",
      "TF-IDF Vectors (Word Importance):\n",
      "[[0.         0.         0.         ... 0.         0.         0.        ]\n",
      " [0.         0.38789511 0.         ... 0.         0.         0.23404762]\n",
      " [0.32945647 0.         0.         ... 0.         0.         0.        ]\n",
      " ...\n",
      " [0.         0.         0.         ... 0.         0.         0.        ]\n",
      " [0.         0.3870183  0.         ... 0.         0.         0.23351857]\n",
      " [0.         0.         0.27936591 ... 0.         0.         0.18095772]]\n"
     ]
    }
   ],
   "source": [
    "vectorizer_tfidf = TfidfVectorizer()\n",
    "X_tfidf = vectorizer_tfidf.fit_transform(emails)\n",
    "\n",
    "print(\"\\n=== TF-IDF ===\")\n",
    "words_tfidf = vectorizer_tfidf.get_feature_names_out()\n",
    "print(\"Feature Names (Words):\", words_tfidf)\n",
    "print(\"TF-IDF Vectors (Word Importance):\")\n",
    "print(X_tfidf.toarray())\n"
   ]
  },
  {
   "cell_type": "code",
   "execution_count": 35,
   "id": "5c9637fb",
   "metadata": {},
   "outputs": [
    {
     "name": "stdout",
     "output_type": "stream",
     "text": [
      "\n",
      "Top 20 Words by Frequency (BoW): [(50, 'spam'), (50, 'ham'), (39, 'for'), (38, 'http'), (38, 'com'), (35, 'at'), (30, 'you'), (29, 'your'), (24, 'to'), (24, 'now'), (23, 'the'), (19, 'claim'), (19, 'been'), (17, 'with'), (15, 'loan'), (15, 'bob'), (14, 'team'), (14, 'on'), (14, 'medication'), (14, 'has')]\n"
     ]
    }
   ],
   "source": [
    "word_freq = np.array(X_bow.sum(axis=0)).flatten()\n",
    "top_bow_words = sorted(zip(word_freq, words_bow), reverse=True)[:20]\n",
    "print(\"\\nTop 20 Words by Frequency (BoW):\", top_bow_words)\n"
   ]
  },
  {
   "cell_type": "code",
   "execution_count": 36,
   "id": "11e130fd",
   "metadata": {},
   "outputs": [
    {
     "name": "stdout",
     "output_type": "stream",
     "text": [
      "Top 20 Words by TF-IDF: [(8.64069683140137, 'ham'), (8.029607737341218, 'for'), (7.398436521600416, 'spam'), (6.621256541827758, 'at'), (6.4646482668296, 'your'), (6.314720029416324, 'you'), (6.0940814934387815, 'http'), (6.0940814934387815, 'com'), (5.811930676816671, 'the'), (5.2484882969280084, 'to'), (5.1946526492935075, 'now'), (4.800097708767761, 'with'), (4.595121834170193, 'claim'), (4.402026649128602, 'bob'), (4.3915304709428415, 'been'), (4.24777705491313, 'team'), (3.953115144143045, 'our'), (3.953115144143045, 'meeting'), (3.798121606419438, 'loan'), (3.7392406416950896, 'has')]\n"
     ]
    }
   ],
   "source": [
    "word_tfidf = np.array(X_tfidf.sum(axis=0)).flatten()\n",
    "top_tfidf_words = sorted(zip(word_tfidf, words_tfidf), reverse=True)[:20]\n",
    "print(\"Top 20 Words by TF-IDF:\", top_tfidf_words)"
   ]
  },
  {
   "cell_type": "code",
   "execution_count": 37,
   "id": "60763b08",
   "metadata": {},
   "outputs": [
    {
     "name": "stdout",
     "output_type": "stream",
     "text": [
      "Loaded 100 emails with labels.\n"
     ]
    }
   ],
   "source": [
    "# Load sample.txt\n",
    "texts = []\n",
    "labels = []\n",
    "\n",
    "with open(\"sample.txt\", \"r\") as f:\n",
    "    for line in f:\n",
    "        label, text = line.strip().split(\"\\t\", 1)\n",
    "        texts.append(text)\n",
    "        labels.append(1 if label == \"spam\" else 0)\n",
    "\n",
    "print(f\"Loaded {len(texts)} emails with labels.\")\n"
   ]
  },
  {
   "cell_type": "code",
   "execution_count": 38,
   "id": "816d1b24",
   "metadata": {},
   "outputs": [],
   "source": [
    "from sklearn.model_selection import train_test_split\n",
    "\n",
    "X_train, X_test, y_train, y_test = train_test_split(\n",
    "    texts, labels, test_size=0.2, random_state=42, stratify=labels)\n"
   ]
  },
  {
   "cell_type": "code",
   "execution_count": 39,
   "id": "b34727ed",
   "metadata": {},
   "outputs": [],
   "source": [
    "from sklearn.pipeline import Pipeline\n",
    "from sklearn.feature_extraction.text import TfidfVectorizer, CountVectorizer\n",
    "from sklearn.naive_bayes import MultinomialNB\n",
    "pipeline = Pipeline([\n",
    "    (\"tfidf\", TfidfVectorizer(\n",
    "        lowercase=True,\n",
    "        stop_words=\"english\",\n",
    "        ngram_range=(1,2),\n",
    "        min_df=1      # <-- lowered from 2 to 1\n",
    "    )),\n",
    "    (\"clf\", MultinomialNB(alpha=1.0))\n",
    "])\n"
   ]
  },
  {
   "cell_type": "code",
   "execution_count": 40,
   "id": "9df79ee4",
   "metadata": {},
   "outputs": [
    {
     "data": {
      "text/html": [
       "<style>#sk-container-id-2 {color: black;}#sk-container-id-2 pre{padding: 0;}#sk-container-id-2 div.sk-toggleable {background-color: white;}#sk-container-id-2 label.sk-toggleable__label {cursor: pointer;display: block;width: 100%;margin-bottom: 0;padding: 0.3em;box-sizing: border-box;text-align: center;}#sk-container-id-2 label.sk-toggleable__label-arrow:before {content: \"▸\";float: left;margin-right: 0.25em;color: #696969;}#sk-container-id-2 label.sk-toggleable__label-arrow:hover:before {color: black;}#sk-container-id-2 div.sk-estimator:hover label.sk-toggleable__label-arrow:before {color: black;}#sk-container-id-2 div.sk-toggleable__content {max-height: 0;max-width: 0;overflow: hidden;text-align: left;background-color: #f0f8ff;}#sk-container-id-2 div.sk-toggleable__content pre {margin: 0.2em;color: black;border-radius: 0.25em;background-color: #f0f8ff;}#sk-container-id-2 input.sk-toggleable__control:checked~div.sk-toggleable__content {max-height: 200px;max-width: 100%;overflow: auto;}#sk-container-id-2 input.sk-toggleable__control:checked~label.sk-toggleable__label-arrow:before {content: \"▾\";}#sk-container-id-2 div.sk-estimator input.sk-toggleable__control:checked~label.sk-toggleable__label {background-color: #d4ebff;}#sk-container-id-2 div.sk-label input.sk-toggleable__control:checked~label.sk-toggleable__label {background-color: #d4ebff;}#sk-container-id-2 input.sk-hidden--visually {border: 0;clip: rect(1px 1px 1px 1px);clip: rect(1px, 1px, 1px, 1px);height: 1px;margin: -1px;overflow: hidden;padding: 0;position: absolute;width: 1px;}#sk-container-id-2 div.sk-estimator {font-family: monospace;background-color: #f0f8ff;border: 1px dotted black;border-radius: 0.25em;box-sizing: border-box;margin-bottom: 0.5em;}#sk-container-id-2 div.sk-estimator:hover {background-color: #d4ebff;}#sk-container-id-2 div.sk-parallel-item::after {content: \"\";width: 100%;border-bottom: 1px solid gray;flex-grow: 1;}#sk-container-id-2 div.sk-label:hover label.sk-toggleable__label {background-color: #d4ebff;}#sk-container-id-2 div.sk-serial::before {content: \"\";position: absolute;border-left: 1px solid gray;box-sizing: border-box;top: 0;bottom: 0;left: 50%;z-index: 0;}#sk-container-id-2 div.sk-serial {display: flex;flex-direction: column;align-items: center;background-color: white;padding-right: 0.2em;padding-left: 0.2em;position: relative;}#sk-container-id-2 div.sk-item {position: relative;z-index: 1;}#sk-container-id-2 div.sk-parallel {display: flex;align-items: stretch;justify-content: center;background-color: white;position: relative;}#sk-container-id-2 div.sk-item::before, #sk-container-id-2 div.sk-parallel-item::before {content: \"\";position: absolute;border-left: 1px solid gray;box-sizing: border-box;top: 0;bottom: 0;left: 50%;z-index: -1;}#sk-container-id-2 div.sk-parallel-item {display: flex;flex-direction: column;z-index: 1;position: relative;background-color: white;}#sk-container-id-2 div.sk-parallel-item:first-child::after {align-self: flex-end;width: 50%;}#sk-container-id-2 div.sk-parallel-item:last-child::after {align-self: flex-start;width: 50%;}#sk-container-id-2 div.sk-parallel-item:only-child::after {width: 0;}#sk-container-id-2 div.sk-dashed-wrapped {border: 1px dashed gray;margin: 0 0.4em 0.5em 0.4em;box-sizing: border-box;padding-bottom: 0.4em;background-color: white;}#sk-container-id-2 div.sk-label label {font-family: monospace;font-weight: bold;display: inline-block;line-height: 1.2em;}#sk-container-id-2 div.sk-label-container {text-align: center;}#sk-container-id-2 div.sk-container {/* jupyter's `normalize.less` sets `[hidden] { display: none; }` but bootstrap.min.css set `[hidden] { display: none !important; }` so we also need the `!important` here to be able to override the default hidden behavior on the sphinx rendered scikit-learn.org. See: https://github.com/scikit-learn/scikit-learn/issues/21755 */display: inline-block !important;position: relative;}#sk-container-id-2 div.sk-text-repr-fallback {display: none;}</style><div id=\"sk-container-id-2\" class=\"sk-top-container\"><div class=\"sk-text-repr-fallback\"><pre>Pipeline(steps=[(&#x27;tfidf&#x27;,\n",
       "                 TfidfVectorizer(ngram_range=(1, 2), stop_words=&#x27;english&#x27;)),\n",
       "                (&#x27;clf&#x27;, MultinomialNB())])</pre><b>In a Jupyter environment, please rerun this cell to show the HTML representation or trust the notebook. <br />On GitHub, the HTML representation is unable to render, please try loading this page with nbviewer.org.</b></div><div class=\"sk-container\" hidden><div class=\"sk-item sk-dashed-wrapped\"><div class=\"sk-label-container\"><div class=\"sk-label sk-toggleable\"><input class=\"sk-toggleable__control sk-hidden--visually\" id=\"sk-estimator-id-4\" type=\"checkbox\" ><label for=\"sk-estimator-id-4\" class=\"sk-toggleable__label sk-toggleable__label-arrow\">Pipeline</label><div class=\"sk-toggleable__content\"><pre>Pipeline(steps=[(&#x27;tfidf&#x27;,\n",
       "                 TfidfVectorizer(ngram_range=(1, 2), stop_words=&#x27;english&#x27;)),\n",
       "                (&#x27;clf&#x27;, MultinomialNB())])</pre></div></div></div><div class=\"sk-serial\"><div class=\"sk-item\"><div class=\"sk-estimator sk-toggleable\"><input class=\"sk-toggleable__control sk-hidden--visually\" id=\"sk-estimator-id-5\" type=\"checkbox\" ><label for=\"sk-estimator-id-5\" class=\"sk-toggleable__label sk-toggleable__label-arrow\">TfidfVectorizer</label><div class=\"sk-toggleable__content\"><pre>TfidfVectorizer(ngram_range=(1, 2), stop_words=&#x27;english&#x27;)</pre></div></div></div><div class=\"sk-item\"><div class=\"sk-estimator sk-toggleable\"><input class=\"sk-toggleable__control sk-hidden--visually\" id=\"sk-estimator-id-6\" type=\"checkbox\" ><label for=\"sk-estimator-id-6\" class=\"sk-toggleable__label sk-toggleable__label-arrow\">MultinomialNB</label><div class=\"sk-toggleable__content\"><pre>MultinomialNB()</pre></div></div></div></div></div></div></div>"
      ],
      "text/plain": [
       "Pipeline(steps=[('tfidf',\n",
       "                 TfidfVectorizer(ngram_range=(1, 2), stop_words='english')),\n",
       "                ('clf', MultinomialNB())])"
      ]
     },
     "execution_count": 40,
     "metadata": {},
     "output_type": "execute_result"
    }
   ],
   "source": [
    "pipeline.fit(X_train, y_train)\n"
   ]
  },
  {
   "cell_type": "code",
   "execution_count": 41,
   "id": "fd792758",
   "metadata": {},
   "outputs": [
    {
     "name": "stdout",
     "output_type": "stream",
     "text": [
      "Accuracy: 1.0000\n",
      "              precision    recall  f1-score   support\n",
      "\n",
      "         ham       1.00      1.00      1.00        10\n",
      "        spam       1.00      1.00      1.00        10\n",
      "\n",
      "    accuracy                           1.00        20\n",
      "   macro avg       1.00      1.00      1.00        20\n",
      "weighted avg       1.00      1.00      1.00        20\n",
      "\n"
     ]
    },
    {
     "data": {
      "text/plain": [
       "<sklearn.metrics._plot.confusion_matrix.ConfusionMatrixDisplay at 0x7f4f14cb78b0>"
      ]
     },
     "execution_count": 41,
     "metadata": {},
     "output_type": "execute_result"
    },
    {
     "data": {
      "image/png": "[encoded data removed]",
      "text/plain": [
       "<Figure size 640x480 with 2 Axes>"
      ]
     },
     "metadata": {},
     "output_type": "display_data"
    }
   ],
   "source": [
    "from sklearn.metrics import accuracy_score\n",
    "\n",
    "# Predict\n",
    "y_pred = pipeline.predict(X_test)\n",
    "\n",
    "# Print accuracy\n",
    "accuracy = accuracy_score(y_test, y_pred)\n",
    "print(f\"Accuracy: {accuracy:.4f}\")\n",
    "\n",
    "# Optional: full report and confusion matrix\n",
    "from sklearn.metrics import classification_report, confusion_matrix, ConfusionMatrixDisplay\n",
    "print(classification_report(y_test, y_pred, target_names=[\"ham\", \"spam\"]))\n",
    "\n",
    "ConfusionMatrixDisplay.from_predictions(y_test, y_pred, display_labels=[\"ham\", \"spam\"])\n"
   ]
  }
 ],
 "metadata": {
  "kernelspec": {
   "display_name": ".venv",
   "language": "python",
   "name": "python3"
  },
  "language_info": {
   "codemirror_mode": {
    "name": "ipython",
    "version": 3
   },
   "file_extension": ".py",
   "mimetype": "text/x-python",
   "name": "python",
   "nbconvert_exporter": "python",
   "pygments_lexer": "ipython3",
   "version": "3.8.10"
  }
 },
 "nbformat": 4,
 "nbformat_minor": 5
}
